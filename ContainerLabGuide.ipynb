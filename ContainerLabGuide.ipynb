{
 "cells": [
  {
   "cell_type": "code",
   "execution_count": null,
   "metadata": {},
   "outputs": [],
   "source": []
  },
  {
   "cell_type": "markdown",
   "metadata": {},
   "source": [
    "# Container Lab Guide\n",
    "\n",
    "Welcome to the container lab! This guide will walk you through running your containerized application in four environments:\n",
    "1. **Local**\n",
    "2. **Azure Container Instance (ACI)**\n",
    "3. **Azure Container Apps (ACA)**\n",
    "4. **Kubernetes with Azure Kubernetes Service (AKS)**\n",
    "\n",
    "Each environment will return a unique letter, and by the end, you'll collect all the letters for the final answer.\n"
   ]
  },
  {
   "cell_type": "markdown",
   "metadata": {},
   "source": [
    "## 1. Run the Container Locally\n",
    "\n",
    "### Steps:\n",
    "1. Build the Docker image using `Dockerfile.local`.\n",
    "2. Run the container locally.\n",
    "3. Check the output for the letter specific to the `local` environment.\n"
   ]
  },
  {
   "cell_type": "code",
   "execution_count": null,
   "metadata": {},
   "outputs": [],
   "source": [
    "# Build the Docker image for local\n",
    "!docker build -t letter-local -f Dockerfile.local .\n",
    "\n",
    "# Run the container locally\n",
    "!docker run letter-local\n"
   ]
  },
  {
   "cell_type": "markdown",
   "metadata": {},
   "source": [
    "## 2. Deploy to Azure Container Instance (ACI)\n",
    "\n",
    "### Steps:\n",
    "1. Build and push the Docker image to your Azure Container Registry (ACR).\n",
    "2. Deploy the container to ACI.\n",
    "3. Check the logs in Azure Portal or CLI for the letter specific to `aci`.\n"
   ]
  },
  {
   "cell_type": "code",
   "execution_count": null,
   "metadata": {},
   "outputs": [],
   "source": [
    "# Build and push the Docker image for ACI\n",
    "!docker build -t <your-registry-name>.azurecr.io/letter-aci:latest -f Dockerfile.aci .\n",
    "!docker push <your-registry-name>.azurecr.io/letter-aci:latest\n",
    "\n",
    "# Deploy the container to ACI\n",
    "!az container create \\\n",
    "  --resource-group <your-resource-group> \\\n",
    "  --name letter-aci \\\n",
    "  --image <your-registry-name>.azurecr.io/letter-aci:latest \\\n",
    "  --registry-login-server <your-registry-name>.azurecr.io \\\n",
    "  --registry-username <your-registry-name> \\\n",
    "  --registry-password <your-acr-password> \\\n",
    "  --environment-variables ENVIRONMENT=aci \\\n",
    "  --dns-name-label <unique-dns-label> \\\n",
    "  --ports 5000\n"
   ]
  },
  {
   "cell_type": "markdown",
   "metadata": {},
   "source": [
    "## 3. Deploy to Azure Container Apps (ACA)\n",
    "\n",
    "### Steps:\n",
    "1. Build and push the Docker image to ACR.\n",
    "2. Deploy the container to ACA.\n",
    "3. Check the logs in Azure Portal for the letter specific to `containerapps`.\n"
   ]
  },
  {
   "cell_type": "code",
   "execution_count": null,
   "metadata": {},
   "outputs": [],
   "source": [
    "# Build and push the Docker image for ACA\n",
    "!docker build -t <your-registry-name>.azurecr.io/letter-containerapps:latest -f Dockerfile.containerapps .\n",
    "!docker push <your-registry-name>.azurecr.io/letter-containerapps:latest\n",
    "\n",
    "# Deploy the container to ACA\n",
    "!az containerapp create \\\n",
    "  --name letter-containerapps \\\n",
    "  --resource-group <your-resource-group> \\\n",
    "  --environment <your-containerapps-env> \\\n",
    "  --image <your-registry-name>.azurecr.io/letter-containerapps:latest \\\n",
    "  --registry-server <your-registry-name>.azurecr.io \\\n",
    "  --registry-username <your-registry-name> \\\n",
    "  --registry-password <your-acr-password> \\\n",
    "  --env-vars ENVIRONMENT=containerapps \\\n",
    "  --ingress external --target-port 5000\n"
   ]
  },
  {
   "cell_type": "markdown",
   "metadata": {},
   "source": [
    "## 4. Deploy to Azure Kubernetes Service (AKS)\n",
    "\n",
    "### Steps:\n",
    "1. Set up an AKS cluster in Azure.\n",
    "2. Deploy the container using Kubernetes deployment and service YAML.\n",
    "3. Expose the application using a LoadBalancer service to retrieve the letter for `kubernetes`.\n"
   ]
  },
  {
   "cell_type": "code",
   "execution_count": null,
   "metadata": {},
   "outputs": [],
   "source": [
    "# Step 1: Create an AKS cluster\n",
    "!az aks create \\\n",
    "  --resource-group <your-resource-group> \\\n",
    "  --name <your-cluster-name> \\\n",
    "  --node-count 1 \\\n",
    "  --enable-addons monitoring \\\n",
    "  --generate-ssh-keys"
   ]
  },
  {
   "cell_type": "code",
   "execution_count": null,
   "metadata": {},
   "outputs": [],
   "source": [
    "# Step 2: Authenticate kubectl with the AKS cluster\n",
    "!az aks get-credentials \\\n",
    "  --resource-group <your-resource-group> \\\n",
    "  --name <your-cluster-name>"
   ]
  },
  {
   "cell_type": "code",
   "execution_count": null,
   "metadata": {},
   "outputs": [],
   "source": [
    "# Step 3: Apply the deployment and service YAML\n",
    "deployment_yaml = \"\"\"\n",
    "apiVersion: apps/v1\n",
    "kind: Deployment\n",
    "metadata:\n",
    "  name: letter-deployment\n",
    "spec:\n",
    "  replicas: 1\n",
    "  selector:\n",
    "    matchLabels:\n",
    "      app: letter-app\n",
    "  template:\n",
    "    metadata:\n",
    "      labels:\n",
    "        app: letter-app\n",
    "    spec:\n",
    "      containers:\n",
    "      - name: letter-container\n",
    "        image: <your-registry-name>.azurecr.io/letter-containerapps:latest\n",
    "        ports:\n",
    "        - containerPort: 5000\n",
    "        env:\n",
    "        - name: ENVIRONMENT\n",
    "          value: \"kubernetes\"\n",
    "\"\"\"\n",
    "\n",
    "service_yaml = \"\"\"\n",
    "apiVersion: v1\n",
    "kind: Service\n",
    "metadata:\n",
    "  name: letter-service\n",
    "spec:\n",
    "  type: LoadBalancer\n",
    "  selector:\n",
    "    app: letter-app\n",
    "  ports:\n",
    "    - protocol: TCP\n",
    "      port: 80\n",
    "      targetPort: 5000\n",
    "\"\"\""
   ]
  },
  {
   "cell_type": "code",
   "execution_count": null,
   "metadata": {},
   "outputs": [],
   "source": [
    "# Save YAML files\n",
    "with open(\"deployment.yaml\", \"w\") as f:\n",
    "    f.write(deployment_yaml)\n",
    "\n",
    "with open(\"service.yaml\", \"w\") as f:\n",
    "    f.write(service_yaml)"
   ]
  },
  {
   "cell_type": "code",
   "execution_count": null,
   "metadata": {},
   "outputs": [],
   "source": [
    "# Apply the YAML files to the cluster\n",
    "!kubectl apply -f deployment.yaml\n",
    "!kubectl apply -f service.yaml"
   ]
  },
  {
   "cell_type": "code",
   "execution_count": null,
   "metadata": {},
   "outputs": [],
   "source": [
    "# Step 4: Get the public IP of the service\n",
    "!kubectl get service letter-service"
   ]
  }
 ],
 "metadata": {
  "language_info": {
   "name": "python"
  }
 },
 "nbformat": 4,
 "nbformat_minor": 2
}
