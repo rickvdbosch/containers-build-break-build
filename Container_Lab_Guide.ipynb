{
 "cells": [
  {
   "cell_type": "markdown",
   "id": "5a9d5456",
   "metadata": {},
   "source": [
    "## **Container Lab Workbook**"
   ]
  },
  {
   "cell_type": "markdown",
   "id": "8d900709",
   "metadata": {},
   "source": [
    "\n",
    "### **Lab Overview**\n",
    "\n",
    "**Objective**:  \n",
    "- Learn container deployment using Local, Azure Container Instance (ACI), Azure Container Apps, and Azure Kubernetes Service (AKS).  \n",
    "- Retrieve letters from an API and solve a final puzzle.\n",
    "\n",
    "**What You’ll Do**:  \n",
    "1. Build and run containers locally.  \n",
    "2. Deploy containers to ACI.  \n",
    "3. Deploy containers to Container Apps.  \n",
    "4. Deploy containers to AKS.  \n"
   ]
  },
  {
   "cell_type": "markdown",
   "id": "de223143",
   "metadata": {},
   "source": [
    "\n",
    "### **Lab Prerequisites**\n",
    "\n",
    "**Tools Required**:\n",
    "- Docker installed locally.\n",
    "- Azure CLI installed and authenticated.\n",
    "- Access to an Azure subscription with sufficient permissions.\n",
    "\n",
    "**Pre-Lab Setup**:\n",
    "1. Clone the GitHub repository:\n"
   ]
  },
  {
   "cell_type": "code",
   "execution_count": null,
   "id": "650d2971",
   "metadata": {},
   "outputs": [],
   "source": [
    "\n",
    "git clone https://github.com/rickvdbosch/containers-build-break-build.git\n",
    "cd <repository-folder>\n"
   ]
  },
  {
   "cell_type": "markdown",
   "id": "337df677",
   "metadata": {},
   "source": [
    "\n",
    "Replace `<resource-group>` and `<your-registry-name>` with your own values where applicable.\n"
   ]
  },
  {
   "cell_type": "markdown",
   "id": "e0a0b437",
   "metadata": {},
   "source": [
    "\n",
    "### **Challenge 1: Local Container**\n",
    "\n",
    "1. **Build and Run Locally**:\n"
   ]
  },
  {
   "cell_type": "code",
   "execution_count": null,
   "id": "c4506b3c",
   "metadata": {},
   "outputs": [],
   "source": [
    "\n",
    "docker build -t letter-local -f Dockerfile.local .\n",
    "docker run letter-local\n"
   ]
  },
  {
   "cell_type": "markdown",
   "id": "efbc292a",
   "metadata": {},
   "source": [
    "\n",
    "2. **Output**:\n",
    "   - View the logs to retrieve the letter:\n",
    "     ```\n",
    "     Letter for local: <letter>\n",
    "     ```\n"
   ]
  },
  {
   "cell_type": "markdown",
   "id": "6cf06f72",
   "metadata": {},
   "source": [
    "\n",
    "### **Challenge 2: Azure Container Instance (ACI)**\n",
    "\n",
    "1. **Build and Push the Image**:\n"
   ]
  },
  {
   "cell_type": "code",
   "execution_count": null,
   "id": "07c4c5f1",
   "metadata": {},
   "outputs": [],
   "source": [
    "\n",
    "docker build -t <your-registry-name>.azurecr.io/letter-aci:latest -f Dockerfile.aci .\n",
    "docker push <your-registry-name>.azurecr.io/letter-aci:latest\n"
   ]
  },
  {
   "cell_type": "markdown",
   "id": "6b61cf8d",
   "metadata": {},
   "source": [
    "\n",
    "2. **Create the ACI**:\n"
   ]
  },
  {
   "cell_type": "code",
   "execution_count": null,
   "id": "aac0c79d",
   "metadata": {},
   "outputs": [],
   "source": [
    "\n",
    "az container create \\\n",
    "  --resource-group <resource-group> \\\n",
    "  --name letter-aci \\\n",
    "  --image <your-registry-name>.azurecr.io/letter-aci:latest \\\n",
    "  --registry-login-server <your-registry-name>.azurecr.io \\\n",
    "  --registry-username <registry-username> \\\n",
    "  --registry-password <registry-password> \\\n",
    "  --environment-variables ENVIRONMENT=aci \\\n",
    "  --dns-name-label <unique-label>\n"
   ]
  },
  {
   "cell_type": "markdown",
   "id": "8b6f96b1",
   "metadata": {},
   "source": [
    "\n",
    "3. **Retrieve the Logs**:\n"
   ]
  },
  {
   "cell_type": "code",
   "execution_count": null,
   "id": "e5db6bda",
   "metadata": {},
   "outputs": [],
   "source": [
    "\n",
    "az container logs --resource-group <resource-group> --name letter-aci\n"
   ]
  },
  {
   "cell_type": "markdown",
   "id": "cacd82cd",
   "metadata": {},
   "source": [
    "\n",
    "4. **Output**:\n",
    "   ```\n",
    "   Letter for aci: <letter>\n",
    "   ```\n"
   ]
  },
  {
   "cell_type": "markdown",
   "id": "833ef006",
   "metadata": {},
   "source": [
    "\n",
    "### **Challenge 3: Azure Container Apps**\n",
    "\n",
    "1. **Build and Push the Image**:\n"
   ]
  },
  {
   "cell_type": "code",
   "execution_count": null,
   "id": "20a1fc99",
   "metadata": {},
   "outputs": [],
   "source": [
    "\n",
    "docker build -t <your-registry-name>.azurecr.io/letter-containerapps:latest -f Dockerfile.containerapps .\n",
    "docker push <your-registry-name>.azurecr.io/letter-containerapps:latest\n"
   ]
  },
  {
   "cell_type": "markdown",
   "id": "e4a77139",
   "metadata": {},
   "source": [
    "\n",
    "2. **Deploy to Azure Container Apps**:\n"
   ]
  },
  {
   "cell_type": "code",
   "execution_count": null,
   "id": "74f37023",
   "metadata": {},
   "outputs": [],
   "source": [
    "\n",
    "az containerapp create \\\n",
    "  --name letter-containerapps \\\n",
    "  --resource-group <resource-group> \\\n",
    "  --environment <environment-name> \\\n",
    "  --image <your-registry-name>.azurecr.io/letter-containerapps:latest \\\n",
    "  --env-vars ENVIRONMENT=containerapps \\\n",
    "  --ingress external --target-port 5000\n"
   ]
  },
  {
   "cell_type": "markdown",
   "id": "433942dc",
   "metadata": {},
   "source": [
    "\n",
    "3. **Retrieve the Logs**:\n"
   ]
  },
  {
   "cell_type": "code",
   "execution_count": null,
   "id": "4b5cccd9",
   "metadata": {},
   "outputs": [],
   "source": [
    "\n",
    "az containerapp logs show --name letter-containerapps --resource-group <resource-group>\n"
   ]
  },
  {
   "cell_type": "markdown",
   "id": "a9c9a25d",
   "metadata": {},
   "source": [
    "\n",
    "4. **Output**:\n",
    "   ```\n",
    "   Letter for containerapps: <letter>\n",
    "   ```\n"
   ]
  },
  {
   "cell_type": "markdown",
   "id": "86d06e04",
   "metadata": {},
   "source": [
    "\n",
    "### **Challenge 4: Azure Kubernetes Service (AKS)**\n",
    "\n",
    "1. **Build and Push the Image**:\n"
   ]
  },
  {
   "cell_type": "code",
   "execution_count": null,
   "id": "7beee29d",
   "metadata": {},
   "outputs": [],
   "source": [
    "\n",
    "docker build -t <your-registry-name>.azurecr.io/aks-container-image:latest -f Dockerfile.aks .\n",
    "docker push <your-registry-name>.azurecr.io/aks-container-image:latest\n"
   ]
  },
  {
   "cell_type": "markdown",
   "id": "3e8d5588",
   "metadata": {},
   "source": [
    "\n",
    "2. **Attach the ACR to AKS**:\n"
   ]
  },
  {
   "cell_type": "code",
   "execution_count": null,
   "id": "c0bec6ab",
   "metadata": {},
   "outputs": [],
   "source": [
    "\n",
    "az aks update \\\n",
    "  --resource-group <resource-group> \\\n",
    "  --name <aks-cluster-name> \\\n",
    "  --attach-acr <your-registry-name>\n"
   ]
  },
  {
   "cell_type": "markdown",
   "id": "f56b79cd",
   "metadata": {},
   "source": [
    "\n",
    "3. **Deploy to AKS**:\n"
   ]
  },
  {
   "cell_type": "code",
   "execution_count": null,
   "id": "0a8a89db",
   "metadata": {},
   "outputs": [],
   "source": [
    "\n",
    "kubectl apply -f deployment.yaml\n",
    "kubectl apply -f service.yaml\n"
   ]
  },
  {
   "cell_type": "markdown",
   "id": "a534e684",
   "metadata": {},
   "source": [
    "\n",
    "4. **Test the API**:\n"
   ]
  },
  {
   "cell_type": "code",
   "execution_count": null,
   "id": "f11f2b83",
   "metadata": {},
   "outputs": [],
   "source": [
    "\n",
    "kubectl get service letter-service\n",
    "curl http://<external-ip>\n"
   ]
  },
  {
   "cell_type": "markdown",
   "id": "8007662b",
   "metadata": {},
   "source": [
    "\n",
    "5. **Retrieve the Logs**:\n"
   ]
  },
  {
   "cell_type": "code",
   "execution_count": null,
   "id": "d8ae4f70",
   "metadata": {},
   "outputs": [],
   "source": [
    "\n",
    "kubectl logs <pod-name>\n"
   ]
  },
  {
   "cell_type": "markdown",
   "id": "be096a37",
   "metadata": {},
   "source": [
    "\n",
    "6. **Output**:\n",
    "   ```\n",
    "   Letter for kubernetes: <letter>\n",
    "   ```\n"
   ]
  },
  {
   "cell_type": "markdown",
   "id": "6db8a6ae",
   "metadata": {},
   "source": [
    "\n",
    "### **Final Challenge: Solving the Puzzle**\n",
    "\n",
    "Combine all letters retrieved from the four challenges to solve the puzzle. Once complete, share your solution with the instructor to claim your reward!\n"
   ]
  }
 ],
 "metadata": {},
 "nbformat": 4,
 "nbformat_minor": 5
}
