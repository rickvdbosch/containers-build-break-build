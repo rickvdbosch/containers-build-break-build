{
 "cells": [
  {
   "cell_type": "markdown",
   "id": "5a9d5456",
   "metadata": {},
   "source": [
    "## **Container Lab Workbook**"
   ]
  },
  {
   "cell_type": "markdown",
   "id": "8d900709",
   "metadata": {},
   "source": [
    "\n",
    "### **Lab Overview**\n",
    "\n",
    "**Objective**:  \n",
    "- Learn container deployment using Local, Azure Container Instance (ACI), Azure Container Apps, and Azure Kubernetes Service (AKS).  \n",
    "- Retrieve letters from an API and solve a final puzzle.\n",
    "\n",
    "**What You’ll Do**:  \n",
    "1. Build and run containers locally.  \n",
    "2. Deploy containers to ACI.  \n",
    "3. Deploy containers to Container Apps.  \n",
    "4. Deploy containers to AKS.  \n"
   ]
  },
  {
   "cell_type": "markdown",
   "id": "de223143",
   "metadata": {},
   "source": [
    "\n",
    "### **Lab Prerequisites**\n",
    "\n",
    "**Tools Required**:\n",
    "- Docker installed locally.\n",
    "- Azure CLI installed and authenticated.\n",
    "- Access to an Azure subscription with sufficient permissions.\n",
    "\n",
    "**Pre-Lab Setup**:\n",
    "1. Clone the GitHub repository:\n"
   ]
  },
  {
   "cell_type": "code",
   "execution_count": null,
   "id": "650d2971",
   "metadata": {},
   "outputs": [],
   "source": [
    "\n",
    "!git clone https://github.com/rickvdbosch/containers-build-break-build.git\n",
    "!cd <repository-folder>"
   ]
  },
  {
   "cell_type": "markdown",
   "id": "337df677",
   "metadata": {},
   "source": [
    "\n",
    "Replace placeholders like `<resource-group>` and `<your-registry-name>` with your own values where applicable.\n"
   ]
  },
  {
   "cell_type": "markdown",
   "id": "e0a0b437",
   "metadata": {},
   "source": [
    "\n",
    "### **Challenge 1: Local Container**\n"
   ]
  },
  {
   "cell_type": "markdown",
   "id": "55b3515a",
   "metadata": {},
   "source": [
    "1. **Build and Run locally**:"
   ]
  },
  {
   "cell_type": "code",
   "execution_count": null,
   "id": "c4506b3c",
   "metadata": {},
   "outputs": [],
   "source": [
    "\n",
    "!docker build -t letter-local -f Dockerfile.local .\n",
    "!docker run letter-local\n"
   ]
  },
  {
   "cell_type": "markdown",
   "id": "efbc292a",
   "metadata": {},
   "source": [
    "\n",
    "2. **Output**:\n",
    "   - View the logs to retrieve the letter:\n",
    "     ```\n",
    "     Letter for local: <letter>\n",
    "     ```\n"
   ]
  },
  {
   "cell_type": "markdown",
   "id": "6cf06f72",
   "metadata": {},
   "source": [
    "\n",
    "### **Challenge 2: Azure Container Instance (ACI)**"
   ]
  },
  {
   "cell_type": "markdown",
   "id": "68c9d134",
   "metadata": {},
   "source": [
    "\n",
    "0. **Create your own resource group**\n",
    "1. **Create an Azure Container Registry (ACR) and save username and password**:\n"
   ]
  },
  {
   "cell_type": "code",
   "execution_count": null,
   "id": "ac94bc98",
   "metadata": {},
   "outputs": [],
   "source": [
    "\n",
    "!az acr create --resource-group <your-resource-group-name> --name <your-acr-name> --sku Basic --enable-admin-user true\n",
    "!az acr credential show --name <your-acr-name> --resource-group <your-resource-group-name>"
   ]
  },
  {
   "cell_type": "markdown",
   "id": "f9483b00",
   "metadata": {},
   "source": [
    "2. **Log in to your Azure Container Registry**:"
   ]
  },
  {
   "cell_type": "code",
   "execution_count": null,
   "id": "c9c46718",
   "metadata": {},
   "outputs": [],
   "source": [
    "!az acr login -n <your-acr-name>"
   ]
  },
  {
   "cell_type": "markdown",
   "id": "466c9052",
   "metadata": {},
   "source": [
    "3. **Build and Push the Image**:"
   ]
  },
  {
   "cell_type": "code",
   "execution_count": null,
   "id": "07c4c5f1",
   "metadata": {},
   "outputs": [],
   "source": [
    "\n",
    "!docker build -t <your-registry-name>.azurecr.io/letter-aci:latest -f Dockerfile.aci .\n",
    "!docker push <your-registry-name>.azurecr.io/letter-aci:latest\n"
   ]
  },
  {
   "cell_type": "markdown",
   "id": "6b61cf8d",
   "metadata": {},
   "source": [
    "\n",
    "4. **Create the ACI**:\n"
   ]
  },
  {
   "cell_type": "code",
   "execution_count": null,
   "id": "aac0c79d",
   "metadata": {},
   "outputs": [],
   "source": [
    "\n",
    "!az container create \\\n",
    "  --resource-group <resource-group> \\\n",
    "  --name letter-aci \\\n",
    "  --image <your-registry-name>.azurecr.io/letter-aci:latest \\\n",
    "  --registry-login-server <your-registry-name>.azurecr.io \\\n",
    "  --registry-username <registry-username> \\\n",
    "  --registry-password <registry-password> \\\n",
    "  --environment-variables ENVIRONMENT=aci\n"
   ]
  },
  {
   "cell_type": "markdown",
   "id": "8b6f96b1",
   "metadata": {},
   "source": [
    "\n",
    "5. **Retrieve the Logs**:\n"
   ]
  },
  {
   "cell_type": "code",
   "execution_count": null,
   "id": "e5db6bda",
   "metadata": {},
   "outputs": [],
   "source": [
    "\n",
    "!az container logs --resource-group <resource-group> --name letter-aci\n"
   ]
  },
  {
   "cell_type": "markdown",
   "id": "cacd82cd",
   "metadata": {},
   "source": [
    "\n",
    "6. **Output**:\n",
    "   ```\n",
    "   Letter for aci: <letter>\n",
    "   ```\n"
   ]
  },
  {
   "cell_type": "markdown",
   "id": "833ef006",
   "metadata": {},
   "source": [
    "\n",
    "### **Challenge 3: Azure Container Apps**\n"
   ]
  },
  {
   "cell_type": "markdown",
   "id": "1739f60d",
   "metadata": {},
   "source": [
    "\n",
    "1. **Build and Push the Image**:"
   ]
  },
  {
   "cell_type": "code",
   "execution_count": null,
   "id": "20a1fc99",
   "metadata": {},
   "outputs": [],
   "source": [
    "\n",
    "!docker build -t <your-registry-name>.azurecr.io/letter-containerapps:latest -f Dockerfile.containerapps .\n",
    "!docker push <your-registry-name>.azurecr.io/letter-containerapps:latest\n"
   ]
  },
  {
   "cell_type": "markdown",
   "id": "e4a77139",
   "metadata": {},
   "source": [
    "\n",
    "2. **Deploy to Azure Container Apps**:  \n",
    "2a. **Create the Azure Container Apps environment**:"
   ]
  },
  {
   "cell_type": "code",
   "execution_count": null,
   "id": "41b12476",
   "metadata": {},
   "outputs": [],
   "source": [
    "!az containerapp env create --name <your-environment-name> --resource-group <your-resource-group-name>"
   ]
  },
  {
   "cell_type": "markdown",
   "id": "d1954d5b",
   "metadata": {},
   "source": [
    "2b. **Create the Azure Container Apps resource**:"
   ]
  },
  {
   "cell_type": "code",
   "execution_count": null,
   "id": "74f37023",
   "metadata": {},
   "outputs": [],
   "source": [
    "\n",
    "!az containerapp create \\\n",
    "  --name letter-containerapps \\\n",
    "  --resource-group <resource-group> \\\n",
    "  --environment <your-environment-name> \\\n",
    "  --image <your-registry-name>.azurecr.io/letter-containerapps:latest \\\n",
    "  --registry-server <your-acr-name>.azurecr.io \\\n",
    "  --registry-username <your-acr-username> \\\n",
    "  --registry-password <your-acr-password> \\\n",
    "  --env-vars ENVIRONMENT=containerapps \\\n",
    "  --ingress external --target-port 5000\n"
   ]
  },
  {
   "cell_type": "markdown",
   "id": "433942dc",
   "metadata": {},
   "source": [
    "\n",
    "3. **Retrieve the Logs**:\n"
   ]
  },
  {
   "cell_type": "code",
   "execution_count": null,
   "id": "4b5cccd9",
   "metadata": {},
   "outputs": [],
   "source": [
    "\n",
    "!az containerapp logs show --name letter-containerapps --resource-group <resource-group>\n"
   ]
  },
  {
   "cell_type": "markdown",
   "id": "a9c9a25d",
   "metadata": {},
   "source": [
    "\n",
    "4. **Output**:\n",
    "   ```\n",
    "   Letter for containerapps: <letter>\n",
    "   ```\n"
   ]
  },
  {
   "cell_type": "markdown",
   "id": "86d06e04",
   "metadata": {},
   "source": [
    "\n",
    "### **Challenge 4: Azure Kubernetes Service (AKS, STRETCH GOAL)**\n"
   ]
  },
  {
   "cell_type": "markdown",
   "id": "2cf92609",
   "metadata": {},
   "source": [
    "Less hand-holding this time!  \n",
    "\n",
    "![You're on your own](https://media2.giphy.com/media/v1.Y2lkPTc5MGI3NjExaHB2ZTV0ZGxkbXNwNTJ4Y25hbDQxdHBvd2RwZnZvMTVmaGxsdjJ1diZlcD12MV9pbnRlcm5hbF9naWZfYnlfaWQmY3Q9Zw/YrSc8Vyn355xs6Qxxe/giphy.webp)\n",
    "\n",
    "1. **Build and Push the Image, but for AKS this time**."
   ]
  },
  {
   "cell_type": "code",
   "execution_count": null,
   "id": "1e7f7ef9",
   "metadata": {},
   "outputs": [],
   "source": [
    "!<YOUR CODE GOES HERE>"
   ]
  },
  {
   "cell_type": "markdown",
   "id": "3e8d5588",
   "metadata": {},
   "source": [
    "\n",
    "2. **Attach the ACR to an existing AKS resource**:\n",
    "\n",
    "Hint: you might need to create an AKS resource first.\n"
   ]
  },
  {
   "cell_type": "code",
   "execution_count": null,
   "id": "c0bec6ab",
   "metadata": {},
   "outputs": [],
   "source": [
    "\n",
    "!az aks update \\\n",
    "  --resource-group <resource-group> \\\n",
    "  --name <aks-cluster-name> \\\n",
    "  --attach-acr <your-registry-name>\n"
   ]
  },
  {
   "cell_type": "markdown",
   "id": "f56b79cd",
   "metadata": {},
   "source": [
    "\n",
    "3. **Deploy to AKS**:\n",
    "\n",
    "Hint: do you have all the tools necesary to execute this?\n"
   ]
  },
  {
   "cell_type": "code",
   "execution_count": null,
   "id": "0a8a89db",
   "metadata": {},
   "outputs": [],
   "source": [
    "\n",
    "!kubectl apply -f aksdeployment.yaml\n",
    "!kubectl apply -f service.yaml\n"
   ]
  },
  {
   "cell_type": "markdown",
   "id": "a534e684",
   "metadata": {},
   "source": [
    "\n",
    "4. **Test the API**:\n"
   ]
  },
  {
   "cell_type": "code",
   "execution_count": null,
   "id": "f11f2b83",
   "metadata": {},
   "outputs": [],
   "source": [
    "\n",
    "!kubectl get service letter-service\n",
    "!curl http://<external-ip>/get-letter\n"
   ]
  },
  {
   "cell_type": "markdown",
   "id": "8007662b",
   "metadata": {},
   "source": [
    "\n",
    "5. **Retrieve the Logs**:\n",
    "\n",
    "Hint: you might need to use `kubectl get pods` to get the correct pod name.\n"
   ]
  },
  {
   "cell_type": "code",
   "execution_count": null,
   "id": "d8ae4f70",
   "metadata": {},
   "outputs": [],
   "source": [
    "\n",
    "!kubectl logs <pod-name>\n"
   ]
  },
  {
   "cell_type": "markdown",
   "id": "be096a37",
   "metadata": {},
   "source": [
    "\n",
    "6. **Output**:\n",
    "   ```\n",
    "   Letter for kubernetes: <letter>\n",
    "   ```\n"
   ]
  },
  {
   "cell_type": "markdown",
   "id": "6db8a6ae",
   "metadata": {},
   "source": [
    "\n",
    "### **Final Challenge: Solving the Puzzle**\n",
    "\n",
    "Combine all letters retrieved from the four challenges to solve the puzzle. Once complete, share your solution with Rick & Seb to claim your reward!\n"
   ]
  }
 ],
 "metadata": {
  "kernelspec": {
   "display_name": "Python 3",
   "language": "python",
   "name": "python3"
  },
  "language_info": {
   "codemirror_mode": {
    "name": "ipython",
    "version": 3
   },
   "file_extension": ".py",
   "mimetype": "text/x-python",
   "name": "python",
   "nbconvert_exporter": "python",
   "pygments_lexer": "ipython3",
   "version": "3.11.9"
  }
 },
 "nbformat": 4,
 "nbformat_minor": 5
}
